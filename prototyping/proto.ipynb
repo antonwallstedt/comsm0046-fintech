{
 "cells": [
  {
   "cell_type": "code",
   "execution_count": 55,
   "id": "e4142306",
   "metadata": {},
   "outputs": [],
   "source": [
    "import BSE\n",
    "import matplotlib.pyplot as plt\n",
    "import numpy as np\n",
    "import csv\n",
    "import math\n",
    "import random\n",
    "import pprint\n",
    "\n",
    "from BSE import market_session"
   ]
  },
  {
   "cell_type": "markdown",
   "id": "d6866b41",
   "metadata": {},
   "source": [
    "# Constants"
   ]
  },
  {
   "cell_type": "code",
   "execution_count": 40,
   "id": "081a072a",
   "metadata": {},
   "outputs": [],
   "source": [
    "\"\"\" 600 seconds, each trading period lasts 40 seconds (600 / 15 = 40)\n",
    "\"\"\"\n",
    "START_TIME     = 0\n",
    "END_TIME       = 10 * 60\n",
    "ORDER_INTERVAL = 15"
   ]
  },
  {
   "cell_type": "markdown",
   "id": "e875d54c",
   "metadata": {},
   "source": [
    "# Offset Functions"
   ]
  },
  {
   "cell_type": "markdown",
   "id": "ada3ef1f",
   "metadata": {},
   "source": [
    "## Drunkard's Walk"
   ]
  },
  {
   "cell_type": "code",
   "execution_count": 63,
   "id": "dd8383bd",
   "metadata": {},
   "outputs": [],
   "source": [
    "def offset_drunkards_walk(time):\n",
    "    # TODO\n",
    "    return"
   ]
  },
  {
   "cell_type": "markdown",
   "id": "5a341df7",
   "metadata": {},
   "source": [
    "## Sine Wave"
   ]
  },
  {
   "cell_type": "code",
   "execution_count": 64,
   "id": "0eb61e50",
   "metadata": {},
   "outputs": [],
   "source": [
    "def offset_sine(time):\n",
    "    # TODO\n",
    "    return"
   ]
  },
  {
   "cell_type": "markdown",
   "id": "3723350b",
   "metadata": {},
   "source": [
    "# Supply and Demand Schedules"
   ]
  },
  {
   "cell_type": "markdown",
   "id": "e92611aa",
   "metadata": {},
   "source": [
    "## Static Supply and Demand"
   ]
  },
  {
   "cell_type": "code",
   "execution_count": 41,
   "id": "839c2790",
   "metadata": {},
   "outputs": [],
   "source": [
    "sup_range = (50, 150)\n",
    "dem_range = (50, 150)"
   ]
  },
  {
   "cell_type": "markdown",
   "id": "e3cde1bf",
   "metadata": {},
   "source": [
    "### Fixed Stepmode"
   ]
  },
  {
   "cell_type": "markdown",
   "id": "0349e723",
   "metadata": {},
   "source": [
    "Orders are spaced out equally, producing supply-demand curves with fixed step size."
   ]
  },
  {
   "cell_type": "code",
   "execution_count": 51,
   "id": "acd02fb6",
   "metadata": {},
   "outputs": [],
   "source": [
    "fixed_supply_schedule = [{\n",
    "    'from': start_time, 'to': end_time,\n",
    "    'ranges': [sup_range],\n",
    "    'stepmode': 'fixed'\n",
    "}]\n",
    "\n",
    "fixed_demand_schedule = [{\n",
    "    'from': start_time, 'to': end_time,\n",
    "    'ranges': [dem_range],\n",
    "    'stepmode': 'fixed'\n",
    "}]\n",
    "\n",
    "# All traders are given a new order periodically at the same time,\n",
    "# at the beginning of every interval.\n",
    "fixed_periodic_order_schedule = {\n",
    "    'sup'     : fixed_supply_schedule,\n",
    "    'dem'     : fixed_demand_schedule,\n",
    "    'interval': ORDER_INTERVAL,\n",
    "    'timemode': 'periodic'\n",
    "}\n",
    "\n",
    "# Orders are given to traders one at a time at fixed intervals.\n",
    "fixed_drip_fixed_order_schedule = {\n",
    "    'sup'     : fixed_supply_schedule,\n",
    "    'dem'     : fixed_demand_schedule,\n",
    "    'interval': ORDER_INTERVAL,\n",
    "    'timemode': 'drip-fixed'\n",
    "}\n",
    "\n",
    "# Similar to 'drip-fixed', but intervals are not fixed due to \n",
    "# added random noise.\n",
    "fixed_drip_jitter_order_schedule = {\n",
    "    'sup'     : fixed_supply_schedule,\n",
    "    'dem'     : fixed_demand_schedule,\n",
    "    'interval': ORDER_INTERVAL,\n",
    "    'timemode': 'drip-jitter'\n",
    "}\n",
    "\n",
    "# New order arrive at intervals modelled with a Poisson distribution.\n",
    "fixed_drip_poisson_order_schedule = {\n",
    "    'sup'     : fixed_supply_schedule,\n",
    "    'dem'     : fixed_demand_schedule,\n",
    "    'interval': ORDER_INTERVAL,\n",
    "    'timemode': 'drip-poisson'\n",
    "}\n",
    "\n",
    "\"\"\" All order schedules with the different types of re-supply schedules,\n",
    "    using the fixed stepmode for spacing out orders.\n",
    "\"\"\"\n",
    "fixed_order_schedules = {\n",
    "    'periodic'     : fixed_periodic_order_schedule,\n",
    "    'drip-fixed'   : fixed_drip_fixed_order_schedule,\n",
    "    'drip-jitter'  : fixed_drip_jitter_order_schedule,\n",
    "    'drip-poisosn' : fixed_drip_poisson_order_schedule\n",
    "}"
   ]
  },
  {
   "cell_type": "markdown",
   "id": "3a15d90d",
   "metadata": {},
   "source": [
    "### Jittered Stepmode"
   ]
  },
  {
   "cell_type": "markdown",
   "id": "73c7afb6",
   "metadata": {},
   "source": [
    "Fixed stepmode, with random adjustments for each order, allowing each to deviate by *at most* half a step upwards or downards, simulating random noise."
   ]
  },
  {
   "cell_type": "code",
   "execution_count": 52,
   "id": "faaf3e03",
   "metadata": {},
   "outputs": [],
   "source": [
    "jittered_supply_schedule = [{\n",
    "    'from': start_time, 'to': end_time,\n",
    "    'ranges': [sup_range],\n",
    "    'stepmode': 'jittered'\n",
    "}]\n",
    "\n",
    "jittered_demand_schedule = [{\n",
    "    'from': start_time, 'to': end_time,\n",
    "    'ranges': [dem_range],\n",
    "    'stepmode': 'jittered'\n",
    "}]\n",
    "\n",
    "# All traders are given a new order periodically at the same time,\n",
    "# at the beginning of every interval.\n",
    "jittered_periodic_order_schedule = {\n",
    "    'sup'     : jittered_supply_schedule,\n",
    "    'dem'     : jittered_demand_schedule,\n",
    "    'interval': ORDER_INTERVAL,\n",
    "    'timemode': 'periodic'\n",
    "}\n",
    "\n",
    "# Orders are given to traders one at a time at fixed intervals.\n",
    "jittered_drip_fixed_order_schedule = {\n",
    "    'sup'     : jittered_supply_schedule,\n",
    "    'dem'     : jittered_demand_schedule,\n",
    "    'interval': ORDER_INTERVAL,\n",
    "    'timemode': 'drip-fixed'\n",
    "}\n",
    "\n",
    "# Similar to 'drip-fixed', but intervals are not fixed due to \n",
    "# added random noise.\n",
    "jittered_drip_jitter_order_schedule = {\n",
    "    'sup'     : jittered_supply_schedule,\n",
    "    'dem'     : jittered_demand_schedule,\n",
    "    'interval': ORDER_INTERVAL,\n",
    "    'timemode': 'drip-jitter'\n",
    "}\n",
    "\n",
    "# New order arrive at intervals modelled with a Poisson distribution.\n",
    "jittered_drip_poisson_order_schedule = {\n",
    "    'sup'     : jittered_supply_schedule,\n",
    "    'dem'     : jittered_demand_schedule,\n",
    "    'interval': ORDER_INTERVAL,\n",
    "    'timemode': 'drip-poisson'\n",
    "}\n",
    "\n",
    "\"\"\" All order schedules with the different types of re-supply schedules,\n",
    "    using the jittered stepmode for spacing out orders.\n",
    "\"\"\"\n",
    "jittered_order_schedules = {\n",
    "    'periodic'     : jittered_periodic_order_schedule,\n",
    "    'drip-fixed'   : jittered_drip_fixed_order_schedule,\n",
    "    'drip-jitter'  : jittered_drip_jitter_order_schedule,\n",
    "    'drip-poisosn' : jittered_drip_poisson_order_schedule\n",
    "}"
   ]
  },
  {
   "cell_type": "markdown",
   "id": "7085e2e1",
   "metadata": {},
   "source": [
    "### Random Stepmode"
   ]
  },
  {
   "cell_type": "markdown",
   "id": "44f51863",
   "metadata": {},
   "source": [
    "Assigns each trader an order which is set at random within specified range."
   ]
  },
  {
   "cell_type": "code",
   "execution_count": 53,
   "id": "b9ccb152",
   "metadata": {},
   "outputs": [],
   "source": [
    "random_supply_schedule = [{\n",
    "    'from': start_time, 'to': end_time,\n",
    "    'ranges': [sup_range],\n",
    "    'stepmode': 'random'\n",
    "}]\n",
    "\n",
    "random_demand_schedule = [{\n",
    "    'from': start_time, 'to': end_time,\n",
    "    'ranges': [dem_range],\n",
    "    'stepmode': 'random'\n",
    "}]\n",
    "\n",
    "# All traders are given a new order periodically at the same time,\n",
    "# at the beginning of every interval.\n",
    "random_periodic_order_schedule = {\n",
    "    'sup'     : random_supply_schedule,\n",
    "    'dem'     : random_demand_schedule,\n",
    "    'interval': ORDER_INTERVAL,\n",
    "    'timemode': 'periodic'\n",
    "}\n",
    "\n",
    "# Orders are given to traders one at a time at fixed intervals.\n",
    "random_drip_fixed_order_schedule = {\n",
    "    'sup'     : random_supply_schedule,\n",
    "    'dem'     : random_demand_schedule,\n",
    "    'interval': ORDER_INTERVAL,\n",
    "    'timemode': 'drip-fixed'\n",
    "}\n",
    "\n",
    "# Similar to 'drip-fixed', but intervals are not fixed due to \n",
    "# added random noise.\n",
    "random_drip_jitter_order_schedule = {\n",
    "    'sup'     : random_supply_schedule,\n",
    "    'dem'     : random_demand_schedule,\n",
    "    'interval': ORDER_INTERVAL,\n",
    "    'timemode': 'drip-jitter'\n",
    "}\n",
    "\n",
    "# New order arrive at intervals modelled with a Poisson distribution.\n",
    "random_drip_poisson_order_schedule = {\n",
    "    'sup'     : random_supply_schedule,\n",
    "    'dem'     : random_demand_schedule,\n",
    "    'interval': ORDER_INTERVAL,\n",
    "    'timemode': 'drip-poisson'\n",
    "}\n",
    "\n",
    "\"\"\" All order schedules with the different types of re-supply schedules,\n",
    "    using the random stepmode for spacing out orders.\n",
    "\"\"\"\n",
    "random_order_schedules = {\n",
    "    'periodic'     : random_periodic_order_schedule,\n",
    "    'drip-fixed'   : random_drip_fixed_order_schedule,\n",
    "    'drip-jitter'  : random_drip_jitter_order_schedule,\n",
    "    'drip-poisosn' : random_drip_poisson_order_schedule\n",
    "}"
   ]
  },
  {
   "cell_type": "markdown",
   "id": "cd539514",
   "metadata": {},
   "source": [
    "**Example use:**"
   ]
  },
  {
   "cell_type": "markdown",
   "id": "533e766a",
   "metadata": {},
   "source": [
    "`<stepmode>_order_schedules['timemode']`\n",
    "\n",
    "`stepmode`:\n",
    "- fixed\n",
    "- jittered\n",
    "- random\n",
    "\n",
    "`timemode`:\n",
    "- periodic\n",
    "- drip-fixed\n",
    "- drip-jitter\n",
    "- drip-poisson"
   ]
  },
  {
   "cell_type": "code",
   "execution_count": 61,
   "id": "3ee0ba06",
   "metadata": {},
   "outputs": [
    {
     "name": "stdout",
     "output_type": "stream",
     "text": [
      "Fixed spacing and periodic redistribution: \n",
      "\n",
      "{'dem': [{'from': 0, 'ranges': [(50, 150)], 'stepmode': 'fixed', 'to': 600}],\n",
      " 'interval': 15,\n",
      " 'sup': [{'from': 0, 'ranges': [(50, 150)], 'stepmode': 'fixed', 'to': 600}],\n",
      " 'timemode': 'periodic'}\n",
      "\n",
      "Jittered spacing and drip-fixed redistribution: \n",
      "\n",
      "{'dem': [{'from': 0, 'ranges': [(50, 150)], 'stepmode': 'jittered', 'to': 600}],\n",
      " 'interval': 15,\n",
      " 'sup': [{'from': 0, 'ranges': [(50, 150)], 'stepmode': 'jittered', 'to': 600}],\n",
      " 'timemode': 'drip-fixed'}\n",
      "\n",
      "Random spacing and drip-jitter redistribution: \n",
      "\n",
      "{'dem': [{'from': 0, 'ranges': [(50, 150)], 'stepmode': 'random', 'to': 600}],\n",
      " 'interval': 15,\n",
      " 'sup': [{'from': 0, 'ranges': [(50, 150)], 'stepmode': 'random', 'to': 600}],\n",
      " 'timemode': 'drip-jitter'}\n"
     ]
    }
   ],
   "source": [
    "# Order schedule that uses a fixed stepmode for spacing out orders within\n",
    "# our supply and demand range, with a periodic timemode.\n",
    "print(\"Fixed spacing and periodic redistribution: \\n\")\n",
    "pprint.pprint(fixed_order_schedules['periodic'])\n",
    "print()\n",
    "\n",
    "# Uses a jittered stepmode for spacing out orders within our supply and\n",
    "# demand range, with drip-fixed timemode.\n",
    "print(\"Jittered spacing and drip-fixed redistribution: \\n\")\n",
    "pprint.pprint(jittered_order_schedules['drip-fixed'])\n",
    "print()\n",
    "\n",
    "# Random stepmode for spacing our orders, with drip-jitter timemode for\n",
    "# re-distribution of orders to traders.\n",
    "print(\"Random spacing and drip-jitter redistribution: \\n\")\n",
    "pprint.pprint(random_order_schedules['drip-jitter'])"
   ]
  },
  {
   "cell_type": "markdown",
   "id": "825ab4ed",
   "metadata": {},
   "source": [
    "## Dynamic Supply and Demand"
   ]
  },
  {
   "cell_type": "markdown",
   "id": "a515540d",
   "metadata": {},
   "source": [
    "### Drunken Walk"
   ]
  },
  {
   "cell_type": "code",
   "execution_count": null,
   "id": "e591b84e",
   "metadata": {},
   "outputs": [],
   "source": []
  },
  {
   "cell_type": "markdown",
   "id": "27dfe8d2",
   "metadata": {},
   "source": [
    "### Market Shock"
   ]
  },
  {
   "cell_type": "code",
   "execution_count": null,
   "id": "112e9392",
   "metadata": {},
   "outputs": [],
   "source": []
  },
  {
   "cell_type": "markdown",
   "id": "6e1b948c",
   "metadata": {},
   "source": [
    "### Market Shock and Drunken Walk"
   ]
  },
  {
   "cell_type": "code",
   "execution_count": null,
   "id": "c06ce493",
   "metadata": {},
   "outputs": [],
   "source": []
  },
  {
   "cell_type": "markdown",
   "id": "92d74b95",
   "metadata": {},
   "source": [
    "# Sellers and Buyers"
   ]
  },
  {
   "cell_type": "code",
   "execution_count": null,
   "id": "c1c94440",
   "metadata": {},
   "outputs": [],
   "source": [
    "# TODO"
   ]
  },
  {
   "cell_type": "markdown",
   "id": "07f3becf",
   "metadata": {},
   "source": [
    "# Experimentation"
   ]
  },
  {
   "cell_type": "code",
   "execution_count": null,
   "id": "339d5d63",
   "metadata": {},
   "outputs": [],
   "source": [
    "# TODO"
   ]
  },
  {
   "cell_type": "markdown",
   "id": "ff658d41",
   "metadata": {},
   "source": [
    "# Helper Functions"
   ]
  },
  {
   "cell_type": "code",
   "execution_count": 12,
   "id": "8d553b28",
   "metadata": {},
   "outputs": [],
   "source": [
    "# Use this to plot trades of a single experiment\n",
    "def plot_trades(trial_id):\n",
    "    prices_fname = trial_id + '_tape.csv'\n",
    "    x = np.empty(0)\n",
    "    y = np.empty(0)\n",
    "    with open(prices_fname, newline='') as csvfile:\n",
    "        reader = csv.reader(csvfile)\n",
    "        for row in reader:\n",
    "            time = float(row[1])\n",
    "            price = float(row[2])\n",
    "            x = np.append(x,time)\n",
    "            y = np.append(y,price)\n",
    "\n",
    "    plt.plot(x, y, 'x', color='black') "
   ]
  },
  {
   "cell_type": "code",
   "execution_count": 13,
   "id": "17f23969",
   "metadata": {},
   "outputs": [],
   "source": [
    "# Use this to run an experiment n times and plot all trades\n",
    "def n_runs_plot_trades(n, trial_id, start_time, end_time, traders_spec, order_sched):\n",
    "    x = np.empty(0)\n",
    "    y = np.empty(0)\n",
    "\n",
    "    for i in range(n):\n",
    "        trialId = trial_id + '_' + str(i)\n",
    "        tdump = open(trialId + '_avg_balance.csv','w')\n",
    "\n",
    "        market_session(trialId, start_time, end_time, traders_spec, order_sched, tdump, True, False)\n",
    "        \n",
    "        tdump.close()\n",
    "\n",
    "        with open(trialId + '_tape.csv', newline='') as csvfile:\n",
    "            reader = csv.reader(csvfile)\n",
    "            for row in reader:\n",
    "                time = float(row[1])\n",
    "                price = float(row[2])\n",
    "                x = np.append(x,time)\n",
    "                y = np.append(y,price)\n",
    "\n",
    "    plt.plot(x, y, 'x', color='black');"
   ]
  },
  {
   "cell_type": "code",
   "execution_count": 14,
   "id": "cecf74cf",
   "metadata": {},
   "outputs": [],
   "source": [
    "# !!! Don't use on it's own   \n",
    "def getorderprice(i, sched, n, mode):\n",
    "    pmin = min(sched[0][0], sched[0][1])\n",
    "    pmax = max(sched[0][0], sched[0][1])\n",
    "    prange = pmax - pmin\n",
    "    stepsize = prange / (n - 1)\n",
    "    halfstep = round(stepsize / 2.0)\n",
    "\n",
    "    if mode == 'fixed':\n",
    "        orderprice = pmin + int(i * stepsize)\n",
    "    elif mode == 'jittered':\n",
    "        orderprice = pmin + int(i * stepsize) + random.randint(-halfstep, halfstep)\n",
    "    elif mode == 'random':\n",
    "        if len(sched) > 1:\n",
    "            # more than one schedule: choose one equiprobably\n",
    "            s = random.randint(0, len(sched) - 1)\n",
    "            pmin = min(sched[s][0], sched[s][1])\n",
    "            pmax = max(sched[s][0], sched[s][1])\n",
    "        orderprice = random.randint(pmin, pmax)\n",
    "    return orderprice"
   ]
  },
  {
   "cell_type": "code",
   "execution_count": 15,
   "id": "4c52a243",
   "metadata": {},
   "outputs": [],
   "source": [
    "# !!! Don't use on it's own\n",
    "def make_supply_demand_plot(bids, asks):\n",
    "    # total volume up to current order\n",
    "    volS = 0\n",
    "    volB = 0\n",
    "\n",
    "    fig, ax = plt.subplots()\n",
    "    plt.ylabel('Price')\n",
    "    plt.xlabel('Quantity')\n",
    "    \n",
    "    pr = 0\n",
    "    for b in bids:\n",
    "        if pr != 0:\n",
    "            # vertical line\n",
    "            ax.plot([volB,volB], [pr,b], 'r-')\n",
    "        # horizontal lines\n",
    "        line, = ax.plot([volB,volB+1], [b,b], 'r-')\n",
    "        volB += 1\n",
    "        pr = b\n",
    "    if bids:\n",
    "        line.set_label('Demand')\n",
    "        \n",
    "    pr = 0\n",
    "    for s in asks:\n",
    "        if pr != 0:\n",
    "            # vertical line\n",
    "            ax.plot([volS,volS], [pr,s], 'b-')\n",
    "        # horizontal lines\n",
    "        line, = ax.plot([volS,volS+1], [s,s], 'b-')\n",
    "        volS += 1\n",
    "        pr = s\n",
    "    if asks:\n",
    "        line.set_label('Supply')\n",
    "        \n",
    "    if bids or asks:\n",
    "        plt.legend()\n",
    "    plt.show()"
   ]
  },
  {
   "cell_type": "code",
   "execution_count": 16,
   "id": "ea16628e",
   "metadata": {},
   "outputs": [],
   "source": [
    "# Use this to plot supply and demand curves from supply and demand ranges and stepmode\n",
    "def plot_sup_dem(seller_num, sup_ranges, buyer_num, dem_ranges, stepmode):\n",
    "    asks = []\n",
    "    for s in range(seller_num):\n",
    "        asks.append(getorderprice(s, sup_ranges, seller_num, stepmode))\n",
    "    asks.sort()\n",
    "    bids = []\n",
    "    for b in range(buyer_num):\n",
    "        bids.append(getorderprice(b, dem_ranges, buyer_num, stepmode))\n",
    "    bids.sort()\n",
    "    bids.reverse()\n",
    "    \n",
    "    make_supply_demand_plot(bids, asks) "
   ]
  },
  {
   "cell_type": "code",
   "execution_count": 17,
   "id": "f037589d",
   "metadata": {},
   "outputs": [],
   "source": [
    "# Plot sorted trades, useful is some situations\n",
    "def in_order_plot(trial_id):\n",
    "    prices_fname = trial_id + '_tape.csv'\n",
    "    y = np.empty(0)\n",
    "    with open(prices_fname, newline='') as csvfile:\n",
    "        reader = csv.reader(csvfile)\n",
    "        for row in reader:\n",
    "            price = float(row[2])\n",
    "            y = np.append(y,price)\n",
    "    y = np.sort(y)\n",
    "    x = list(range(len(y)))\n",
    "\n",
    "    plt.plot(x, y, 'x', color='black') "
   ]
  },
  {
   "cell_type": "code",
   "execution_count": 18,
   "id": "e350cdc8",
   "metadata": {},
   "outputs": [],
   "source": [
    "# Plot offset function\n",
    "def plot_offset_fn(offset_fn, total_time_seconds):   \n",
    "    x = list(range(total_time_seconds))\n",
    "    offsets = []\n",
    "    for i in range(total_time_seconds):\n",
    "        offsets.append(offset_fn(i))\n",
    "    plt.plot(x, offsets, 'x', color='black')  "
   ]
  },
  {
   "cell_type": "markdown",
   "id": "bb6256d1",
   "metadata": {},
   "source": [
    "# Jupyter Themes"
   ]
  },
  {
   "cell_type": "code",
   "execution_count": 77,
   "id": "056a1949",
   "metadata": {},
   "outputs": [
    {
     "name": "stdout",
     "output_type": "stream",
     "text": [
      "Available Themes: \r\n",
      "   chesterish\r\n",
      "   grade3\r\n",
      "   gruvboxd\r\n",
      "   gruvboxl\r\n",
      "   monokai\r\n",
      "   oceans16\r\n",
      "   onedork\r\n",
      "   solarizedd\r\n",
      "   solarizedl\r\n"
     ]
    }
   ],
   "source": [
    "!jt -l"
   ]
  },
  {
   "cell_type": "code",
   "execution_count": 82,
   "id": "b863942d",
   "metadata": {},
   "outputs": [],
   "source": [
    "!jt -t grade3"
   ]
  },
  {
   "cell_type": "markdown",
   "id": "85b4d49a",
   "metadata": {},
   "source": [
    "# BSE Code Exploration"
   ]
  },
  {
   "cell_type": "code",
   "execution_count": 20,
   "id": "105567a2",
   "metadata": {},
   "outputs": [],
   "source": [
    "sellers_spec = [('PRDE', 10, {'k': 4, 's_min': -1, 's_max': +1})]\n",
    "buyers_spec  = sellers_spec\n",
    "traders_spec = {'sellers': sellers_spec, 'buyers': buyers_spec}"
   ]
  },
  {
   "cell_type": "code",
   "execution_count": 23,
   "id": "5b07caf9",
   "metadata": {},
   "outputs": [],
   "source": [
    "start_time     = 0\n",
    "end_time       = 10 * 60\n",
    "order_interval = 15"
   ]
  },
  {
   "cell_type": "code",
   "execution_count": 24,
   "id": "348f9dae",
   "metadata": {},
   "outputs": [],
   "source": [
    "sup_ranges = (50, 150)\n",
    "dem_ranges = sup_ranges\n",
    "\n",
    "supply_schedule = [{\n",
    "    'from': start_time, 'to': end_time,\n",
    "    'ranges': [sup_ranges],\n",
    "    'stepmode': 'fixed'\n",
    "}]\n",
    "\n",
    "demand_schedule = [{\n",
    "    'from': start_time, 'to': end_time,\n",
    "    'ranges': [dem_ranges],\n",
    "    'stepmode': 'fixed'\n",
    "}]"
   ]
  },
  {
   "cell_type": "code",
   "execution_count": 26,
   "id": "fa5ed39c",
   "metadata": {},
   "outputs": [],
   "source": [
    "order_schedule = {\n",
    "    'sup': supply_schedule,\n",
    "    'dem': demand_schedule,\n",
    "    'interval': order_interval,\n",
    "    'timemode': 'periodic'\n",
    "}"
   ]
  },
  {
   "cell_type": "code",
   "execution_count": 29,
   "id": "2abfd19a",
   "metadata": {},
   "outputs": [
    {
     "name": "stdout",
     "output_type": "stream",
     "text": [
      "B00: PRDE active_strat=[0]:\n",
      "[0]: s=+0.264155, start=0.000000, $=0.000000, pps=0.000000\n",
      "[1]: s=+0.450464, start=0.000000, $=0.000000, pps=0.000000\n",
      "[2]: s=-0.302153, start=0.000000, $=0.000000, pps=0.000000\n",
      "[3]: s=-0.922289, start=0.000000, $=0.000000, pps=0.000000\n",
      "\n",
      "\n",
      "B01: PRDE active_strat=[0]:\n",
      "[0]: s=+0.746629, start=0.000000, $=0.000000, pps=0.000000\n",
      "[1]: s=+0.178832, start=0.000000, $=0.000000, pps=0.000000\n",
      "[2]: s=-0.416999, start=0.000000, $=0.000000, pps=0.000000\n",
      "[3]: s=+0.080370, start=0.000000, $=0.000000, pps=0.000000\n",
      "\n",
      "\n",
      "B02: PRDE active_strat=[0]:\n",
      "[0]: s=-0.232712, start=0.000000, $=0.000000, pps=0.000000\n",
      "[1]: s=-0.328170, start=0.000000, $=0.000000, pps=0.000000\n",
      "[2]: s=+0.858468, start=0.000000, $=0.000000, pps=0.000000\n",
      "[3]: s=+0.365712, start=0.000000, $=0.000000, pps=0.000000\n",
      "\n",
      "\n",
      "B03: PRDE active_strat=[0]:\n",
      "[0]: s=-0.841265, start=0.000000, $=0.000000, pps=0.000000\n",
      "[1]: s=-0.292196, start=0.000000, $=0.000000, pps=0.000000\n",
      "[2]: s=+0.238526, start=0.000000, $=0.000000, pps=0.000000\n",
      "[3]: s=-0.612133, start=0.000000, $=0.000000, pps=0.000000\n",
      "\n",
      "\n",
      "B04: PRDE active_strat=[0]:\n",
      "[0]: s=+0.119803, start=0.000000, $=0.000000, pps=0.000000\n",
      "[1]: s=+0.019705, start=0.000000, $=0.000000, pps=0.000000\n",
      "[2]: s=+0.136327, start=0.000000, $=0.000000, pps=0.000000\n",
      "[3]: s=+0.227028, start=0.000000, $=0.000000, pps=0.000000\n",
      "\n",
      "\n",
      "B05: PRDE active_strat=[0]:\n",
      "[0]: s=-0.786354, start=0.000000, $=0.000000, pps=0.000000\n",
      "[1]: s=+0.381267, start=0.000000, $=0.000000, pps=0.000000\n",
      "[2]: s=+0.621788, start=0.000000, $=0.000000, pps=0.000000\n",
      "[3]: s=-0.665365, start=0.000000, $=0.000000, pps=0.000000\n",
      "\n",
      "\n",
      "B06: PRDE active_strat=[0]:\n",
      "[0]: s=+0.192844, start=0.000000, $=0.000000, pps=0.000000\n",
      "[1]: s=-0.356235, start=0.000000, $=0.000000, pps=0.000000\n",
      "[2]: s=-0.477552, start=0.000000, $=0.000000, pps=0.000000\n",
      "[3]: s=-0.033628, start=0.000000, $=0.000000, pps=0.000000\n",
      "\n",
      "\n",
      "B07: PRDE active_strat=[0]:\n",
      "[0]: s=+0.728047, start=0.000000, $=0.000000, pps=0.000000\n",
      "[1]: s=-0.268384, start=0.000000, $=0.000000, pps=0.000000\n",
      "[2]: s=+0.740029, start=0.000000, $=0.000000, pps=0.000000\n",
      "[3]: s=-0.868400, start=0.000000, $=0.000000, pps=0.000000\n",
      "\n",
      "\n",
      "B08: PRDE active_strat=[0]:\n",
      "[0]: s=+0.891888, start=0.000000, $=0.000000, pps=0.000000\n",
      "[1]: s=-0.586623, start=0.000000, $=0.000000, pps=0.000000\n",
      "[2]: s=-0.150382, start=0.000000, $=0.000000, pps=0.000000\n",
      "[3]: s=+0.965173, start=0.000000, $=0.000000, pps=0.000000\n",
      "\n",
      "\n",
      "B09: PRDE active_strat=[0]:\n",
      "[0]: s=-0.198827, start=0.000000, $=0.000000, pps=0.000000\n",
      "[1]: s=+0.793733, start=0.000000, $=0.000000, pps=0.000000\n",
      "[2]: s=-0.361628, start=0.000000, $=0.000000, pps=0.000000\n",
      "[3]: s=+0.733136, start=0.000000, $=0.000000, pps=0.000000\n",
      "\n",
      "\n",
      "S00: PRDE active_strat=[0]:\n",
      "[0]: s=-0.835106, start=0.000000, $=0.000000, pps=0.000000\n",
      "[1]: s=+0.161887, start=0.000000, $=0.000000, pps=0.000000\n",
      "[2]: s=+0.791871, start=0.000000, $=0.000000, pps=0.000000\n",
      "[3]: s=+0.266868, start=0.000000, $=0.000000, pps=0.000000\n",
      "\n",
      "\n",
      "S01: PRDE active_strat=[0]:\n",
      "[0]: s=-0.187531, start=0.000000, $=0.000000, pps=0.000000\n",
      "[1]: s=-0.580635, start=0.000000, $=0.000000, pps=0.000000\n",
      "[2]: s=+0.089845, start=0.000000, $=0.000000, pps=0.000000\n",
      "[3]: s=+0.483035, start=0.000000, $=0.000000, pps=0.000000\n",
      "\n",
      "\n",
      "S02: PRDE active_strat=[0]:\n",
      "[0]: s=-0.762308, start=0.000000, $=0.000000, pps=0.000000\n",
      "[1]: s=+0.384067, start=0.000000, $=0.000000, pps=0.000000\n",
      "[2]: s=-0.922568, start=0.000000, $=0.000000, pps=0.000000\n",
      "[3]: s=+0.311110, start=0.000000, $=0.000000, pps=0.000000\n",
      "\n",
      "\n",
      "S03: PRDE active_strat=[0]:\n",
      "[0]: s=-0.353257, start=0.000000, $=0.000000, pps=0.000000\n",
      "[1]: s=+0.079287, start=0.000000, $=0.000000, pps=0.000000\n",
      "[2]: s=-0.781693, start=0.000000, $=0.000000, pps=0.000000\n",
      "[3]: s=-0.914735, start=0.000000, $=0.000000, pps=0.000000\n",
      "\n",
      "\n",
      "S04: PRDE active_strat=[0]:\n",
      "[0]: s=-0.588701, start=0.000000, $=0.000000, pps=0.000000\n",
      "[1]: s=-0.351877, start=0.000000, $=0.000000, pps=0.000000\n",
      "[2]: s=-0.400768, start=0.000000, $=0.000000, pps=0.000000\n",
      "[3]: s=+0.828473, start=0.000000, $=0.000000, pps=0.000000\n",
      "\n",
      "\n",
      "S05: PRDE active_strat=[0]:\n",
      "[0]: s=-0.557184, start=0.000000, $=0.000000, pps=0.000000\n",
      "[1]: s=+0.930812, start=0.000000, $=0.000000, pps=0.000000\n",
      "[2]: s=-0.100160, start=0.000000, $=0.000000, pps=0.000000\n",
      "[3]: s=+0.527088, start=0.000000, $=0.000000, pps=0.000000\n",
      "\n",
      "\n",
      "S06: PRDE active_strat=[0]:\n",
      "[0]: s=+0.159315, start=0.000000, $=0.000000, pps=0.000000\n",
      "[1]: s=-0.376906, start=0.000000, $=0.000000, pps=0.000000\n",
      "[2]: s=-0.218643, start=0.000000, $=0.000000, pps=0.000000\n",
      "[3]: s=+0.785387, start=0.000000, $=0.000000, pps=0.000000\n",
      "\n",
      "\n",
      "S07: PRDE active_strat=[0]:\n",
      "[0]: s=+0.966239, start=0.000000, $=0.000000, pps=0.000000\n",
      "[1]: s=-0.207738, start=0.000000, $=0.000000, pps=0.000000\n",
      "[2]: s=+0.638332, start=0.000000, $=0.000000, pps=0.000000\n",
      "[3]: s=-0.377032, start=0.000000, $=0.000000, pps=0.000000\n",
      "\n",
      "\n",
      "S08: PRDE active_strat=[0]:\n",
      "[0]: s=+0.190849, start=0.000000, $=0.000000, pps=0.000000\n",
      "[1]: s=-0.915770, start=0.000000, $=0.000000, pps=0.000000\n",
      "[2]: s=-0.355269, start=0.000000, $=0.000000, pps=0.000000\n",
      "[3]: s=-0.800295, start=0.000000, $=0.000000, pps=0.000000\n",
      "\n",
      "\n",
      "S09: PRDE active_strat=[0]:\n",
      "[0]: s=-0.321965, start=0.000000, $=0.000000, pps=0.000000\n",
      "[1]: s=-0.822541, start=0.000000, $=0.000000, pps=0.000000\n",
      "[2]: s=-0.170248, start=0.000000, $=0.000000, pps=0.000000\n",
      "[3]: s=-0.130659, start=0.000000, $=0.000000, pps=0.000000\n",
      "\n",
      "\n"
     ]
    }
   ],
   "source": [
    "trial_id   = 'test_1'\n",
    "trial_dump = open('./tests_1/test_1_avg_balance.csv', 'w')\n",
    "dump_all   = True\n",
    "verbose    = False\n",
    "\n",
    "market_session(\n",
    "    trial_id,\n",
    "    start_time,\n",
    "    end_time,\n",
    "    traders_spec,\n",
    "    order_schedule,\n",
    "    trial_dump,\n",
    "    dump_all,\n",
    "    verbose\n",
    ")\n",
    "\n",
    "trial_dump.close()"
   ]
  },
  {
   "cell_type": "code",
   "execution_count": 31,
   "id": "28429905",
   "metadata": {},
   "outputs": [
    {
     "data": {
      "image/png": "[encoded data removed]",
      "text/plain": [
       "<Figure size 640x480 with 1 Axes>"
      ]
     },
     "metadata": {},
     "output_type": "display_data"
    }
   ],
   "source": [
    "plot_trades('test_1')"
   ]
  },
  {
   "cell_type": "code",
   "execution_count": 33,
   "id": "1c801d3d",
   "metadata": {},
   "outputs": [
    {
     "data": {
      "image/png": "[encoded data removed]",
      "text/plain": [
       "<Figure size 640x480 with 1 Axes>"
      ]
     },
     "metadata": {},
     "output_type": "display_data"
    }
   ],
   "source": [
    "plot_sup_dem(10, [sup_ranges], 10, [dem_ranges], 'fixed')"
   ]
  },
  {
   "cell_type": "code",
   "execution_count": null,
   "id": "f578364d",
   "metadata": {},
   "outputs": [],
   "source": []
  }
 ],
 "metadata": {
  "kernelspec": {
   "display_name": "Python 3 (ipykernel)",
   "language": "python",
   "name": "python3"
  },
  "language_info": {
   "codemirror_mode": {
    "name": "ipython",
    "version": 3
   },
   "file_extension": ".py",
   "mimetype": "text/x-python",
   "name": "python",
   "nbconvert_exporter": "python",
   "pygments_lexer": "ipython3",
   "version": "3.10.8"
  }
 },
 "nbformat": 4,
 "nbformat_minor": 5
}
